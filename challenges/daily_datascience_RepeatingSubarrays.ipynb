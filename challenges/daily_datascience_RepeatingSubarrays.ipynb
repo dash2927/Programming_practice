{
 "cells": [
  {
   "cell_type": "markdown",
   "metadata": {},
   "source": [
    "### __Problem Statement :__\n",
    "\n",
    "> Good morning!\n",
    "> You can find the solution to the previous problem here: [Get the solution!](https://datascienceprep.com/solution/145?token=12a7bd77e8ef8a56d458e91d5257c014c80ce1bccb8db167e3c1198fe4dfb959b23c89f59aef68c87fef8b8aeb07dad201c448f97454e9a1cb941dc6d428f7e1c75d81388a8640e880)\n",
    "\n",
    "__Here's today's problem :__\n",
    "\n",
    "This problem was asked by Dropbox.\n",
    "\n",
    "Given two arrays with integers, return the maximum length of a common subarray within both arrays.\n",
    "\n",
    "__Example:__ If the two arrays are [1, 3, 5, 6, 7] and [2, 4, 3, 5, 6] then return 3 since the maximum length is [3, 5, 6]."
   ]
  },
  {
   "cell_type": "code",
   "execution_count": 15,
   "metadata": {},
   "outputs": [],
   "source": [
    "def max_common_sub(arrA, arrB):\n",
    "    return len(set(arrA).intersection(set(arrB)))"
   ]
  },
  {
   "cell_type": "code",
   "execution_count": 17,
   "metadata": {},
   "outputs": [
    {
     "name": "stdout",
     "output_type": "stream",
     "text": [
      "3\n"
     ]
    }
   ],
   "source": [
    "arrA = [1, 3, 5, 6, 7]\n",
    "arrB = [2, 4, 3, 5, 6]\n",
    "print(max_common_sub(arrA, arrB))"
   ]
  }
 ],
 "metadata": {
  "kernelspec": {
   "display_name": "Python 3",
   "language": "python",
   "name": "python3"
  },
  "language_info": {
   "codemirror_mode": {
    "name": "ipython",
    "version": 3
   },
   "file_extension": ".py",
   "mimetype": "text/x-python",
   "name": "python",
   "nbconvert_exporter": "python",
   "pygments_lexer": "ipython3",
   "version": "3.7.9"
  }
 },
 "nbformat": 4,
 "nbformat_minor": 4
}
