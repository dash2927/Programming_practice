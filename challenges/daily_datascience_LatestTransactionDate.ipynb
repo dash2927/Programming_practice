{
 "cells": [
  {
   "cell_type": "markdown",
   "metadata": {},
   "source": [
    "### __Problem Statement :__\n",
    "\n",
    "> Good morning!\n",
    "> You can find the solution to the previous problem here: [Get the solution!](https://datascienceprep.com/solution/145?token=12a7bd77e8ef8a56d458e91d5257c014c80ce1bccb8db167e3c1198fe4dfb959b23c89f59aef68c87fef8b8aeb07dad201c448f97454e9a1cb941dc6d428f7e1c75d81388a8640e880)\n",
    "\n",
    "__Here's today's problem :__\n",
    "\n",
    "This problem was asked by Stitch Fix.\n",
    "\n",
    "Assume you are given the below table on transactions from users. Write a query to get the number of users and total products bought per latest transaction date where each user is bucketed into their latest transaction date.\n",
    "\n",
    "<center>\n",
    "    \n",
    "<table>\n",
    "    <thead>\n",
    "        <tc>\n",
    "            <th><b>user_transactions</b></th>\n",
    "        </tc>\n",
    "    </thead>\n",
    "    <tbody>\n",
    "        <tr>\n",
    "            <td><b>column_name</b></td>\n",
    "            <td><b>type</b></td>\n",
    "        </tr>\n",
    "        <tr>\n",
    "            <td>transaction_id</td>\n",
    "            <td>integer</td>\n",
    "        </tr>\n",
    "        <tr>\n",
    "            <td>product_id</td>\n",
    "            <td>integer</td>\n",
    "        </tr>\n",
    "        <tr>\n",
    "            <td>user_id</td>\n",
    "            <td>integer</td>\n",
    "        </tr>\n",
    "        <tr>\n",
    "            <td>spend</td>\n",
    "            <td>float</td>\n",
    "        </tr>\n",
    "        <tr>\n",
    "            <td>transaction_date</td>\n",
    "            <td>integer</td>\n",
    "        </tr>\n",
    "    </tbody>\n",
    "</table>\n",
    "    \n",
    "</center>\n",
    "\n",
    "### __Solution :__\n",
    "\n",
    "First, we need to get the latest transaction date for each user, along with the number of products they have purchased. This can be done in a subquery where we GROUP BY user_id and take a COUNT(DISTINCT product_id) to get the number of products they have purchased, and a MAX(transaction_date::date) to get the latest transaction date (while casting to a date). Then, using this subquery, we can simply do an aggregation by the transaction date column in the previous subquery, while doing a COUNT() on the number of users, and a SUM() on the number of products:\n",
    "\n",
    "```\n",
    "WITH latest_date AS (\n",
    "    SELECT user_id,\n",
    "        COUNT(DISTINCT product_id) AS num_products,\n",
    "        MAX(transaction_date::DATE) AS latest_date\n",
    "    FROM user_transactions\n",
    "    GROUP BY )\n",
    "\n",
    "SELECT latest_date,\n",
    "    COUNT(user_id) AS num_users,\n",
    "    SUM(num_products) AS total_products\n",
    "FROM\n",
    "latest_date\n",
    "GROUP BY 1\n",
    "```\n"
   ]
  },
  {
   "cell_type": "code",
   "execution_count": 15,
   "metadata": {},
   "outputs": [],
   "source": [
    "def max_common_sub(arrA, arrB):\n",
    "    return len(set(arrA).intersection(set(arrB)))"
   ]
  },
  {
   "cell_type": "code",
   "execution_count": 17,
   "metadata": {},
   "outputs": [
    {
     "name": "stdout",
     "output_type": "stream",
     "text": [
      "3\n"
     ]
    }
   ],
   "source": [
    "arrA = [1, 3, 5, 6, 7]\n",
    "arrB = [2, 4, 3, 5, 6]\n",
    "print(max_common_sub(arrA, arrB))"
   ]
  }
 ],
 "metadata": {
  "kernelspec": {
   "display_name": "Python 3",
   "language": "python",
   "name": "python3"
  },
  "language_info": {
   "codemirror_mode": {
    "name": "ipython",
    "version": 3
   },
   "file_extension": ".py",
   "mimetype": "text/x-python",
   "name": "python",
   "nbconvert_exporter": "python",
   "pygments_lexer": "ipython3",
   "version": "3.7.9"
  }
 },
 "nbformat": 4,
 "nbformat_minor": 4
}
